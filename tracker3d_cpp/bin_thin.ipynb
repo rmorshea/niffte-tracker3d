{
 "metadata": {
  "name": "",
  "signature": "sha256:de1c420d0f7625b642dc32fb3b03bc9576b508703c4724e76bc4289db1c16b0d"
 },
 "nbformat": 3,
 "nbformat_minor": 0,
 "worksheets": [
  {
   "cells": [
    {
     "cell_type": "code",
     "collapsed": false,
     "input": [
      "import numpy as np\n",
      "from math import isnan\n",
      "from PIL import Image\n",
      "import matplotlib.pyplot as plt\n",
      "from mpl_toolkits.mplot3d import Axes3D\n",
      "from copy import deepcopy\n",
      "%matplotlib inline"
     ],
     "language": "python",
     "metadata": {},
     "outputs": [],
     "prompt_number": 1
    },
    {
     "cell_type": "code",
     "collapsed": false,
     "input": [
      "def getdat(textfile):\n",
      "    f=open(textfile,'r')\n",
      "    flist=[]\n",
      "    f.readline()\n",
      "    line=f.readline()\n",
      "    while len(line)!=0:\n",
      "        line=[int(i) for i in line.split(' ')]\n",
      "        flist.append(line)\n",
      "        line=f.readline()\n",
      "    return flist"
     ],
     "language": "python",
     "metadata": {},
     "outputs": [],
     "prompt_number": 2
    },
    {
     "cell_type": "code",
     "collapsed": false,
     "input": [
      "def make_png(array, size, fname='ipyim.png', show=True, save=True):\n",
      "    newimage = Image.new('RGB', (len(array[0]), len(array)))  # type, size\n",
      "    newimage.putdata([tuple(pixel) for row in array for pixel in row])\n",
      "    newimage = newimage.resize(size, Image.LINEAR)\n",
      "    if save==True:\n",
      "        newimage.save(fname)  # takes type from filename extension\n",
      "    if show == True:\n",
      "        plt.imshow(newimage)\n",
      "        plt.show()\n",
      "    \n",
      "def grid_to_rgb(grid):\n",
      "    png = []\n",
      "    ishape=grid.shape[0]\n",
      "    jshape=grid.shape[1]\n",
      "    for i in range(ishape):\n",
      "        col=[]\n",
      "        for j in range(jshape):\n",
      "            gval = grid[i][j]\n",
      "            col.append([int(255*gval),int(255*gval),int(255*gval)])\n",
      "        png.append(col)\n",
      "    png=np.array(png)\n",
      "    return png"
     ],
     "language": "python",
     "metadata": {},
     "outputs": [],
     "prompt_number": 3
    },
    {
     "cell_type": "markdown",
     "metadata": {},
     "source": [
      "#`bin_thin2dr`"
     ]
    },
    {
     "cell_type": "code",
     "collapsed": false,
     "input": [
      "A = np.array([[0,0,0,0,0,0,0,0,0,0,0,0,0,0,0,0,0],\n",
      "             [0,0,0,0,0,0,0,0,0,0,0,0,0,0,0,0,0],\n",
      "             [0,1,1,0,0,0,0,0,0,0,0,0,0,0,0,0,0],\n",
      "             [0,0,0,1,0,0,0,0,0,1,1,0,0,0,0,0,0],\n",
      "             [0,0,0,1,1,1,0,0,0,1,1,1,0,0,0,0,0],\n",
      "             [0,0,0,1,1,1,1,1,1,1,1,1,1,1,0,0,0],\n",
      "             [0,0,0,1,1,1,1,1,1,1,1,1,1,1,1,0,0],\n",
      "             [0,0,1,1,1,1,1,1,1,1,1,1,1,0,0,0,0],\n",
      "             [0,0,0,1,1,1,1,1,1,1,1,1,0,0,0,0,0],\n",
      "             [0,0,0,0,1,1,1,1,1,1,0,0,0,0,0,0,0],\n",
      "             [0,0,0,0,0,0,1,1,1,0,0,0,0,0,0,0,0],\n",
      "             [0,0,0,0,0,0,1,1,1,0,0,0,0,0,0,0,0],\n",
      "             [0,0,0,0,0,0,0,1,1,1,1,0,0,0,0,0,0]])"
     ],
     "language": "python",
     "metadata": {},
     "outputs": [],
     "prompt_number": 4
    },
    {
     "cell_type": "code",
     "collapsed": false,
     "input": [
      "make_png(grid_to_rgb(A),(500,500),'thinning_output/original.png')"
     ],
     "language": "python",
     "metadata": {},
     "outputs": [
      {
       "metadata": {},
       "output_type": "display_data",
       "png": "[encoded data removed]",
       "text": [
        "<matplotlib.figure.Figure at 0x107d02650>"
       ]
      }
     ],
     "prompt_number": 5
    },
    {
     "cell_type": "code",
     "collapsed": false,
     "input": [
      "def gen_rots2dr(X,R=2):\n",
      "    '''generate rotations of the original structuring element in 2D rectilinear space.\n",
      "    x = structuring element\n",
      "    R = dimensions of the output\n",
      "    '''\n",
      "    rot1 = np.array(zip(*X))\n",
      "    rot2 = np.array(zip(*rot1)[::-1])\n",
      "    rot3 = np.array(zip(*X)[::-1])\n",
      "    if R==1:\n",
      "        return (np.array([j for i in X for j in i]),\n",
      "                np.array([j for i in rot1 for j in i]),\n",
      "                np.array([j for i in rot2 for j in i]),\n",
      "                np.array([j for i in rot3 for j in i])\n",
      "                )\n",
      "    if R==2:\n",
      "        return np.array(X), rot1, rot2, rot3"
     ],
     "language": "python",
     "metadata": {},
     "outputs": [],
     "prompt_number": 6
    },
    {
     "cell_type": "code",
     "collapsed": false,
     "input": [
      "def comp_elmnts(E1, E2, gen=False):\n",
      "    '''Evaluates E1==E2 where entries of -1 aren't compared.'''\n",
      "    if gen==True:\n",
      "        E = np.array([j for i in E1 for j in i])\n",
      "        E2 = np.array([j for i in E2 for j in i])\n",
      "    boolArr = [True if (E1[i]==E2[i]) else False for i in range(len(E1)) if (E1[i]!=-1 and E2[i]!=-1)]\n",
      "    if False in boolArr:\n",
      "        return False\n",
      "    else:\n",
      "        return True"
     ],
     "language": "python",
     "metadata": {},
     "outputs": [],
     "prompt_number": 7
    },
    {
     "cell_type": "code",
     "collapsed": false,
     "input": [
      "def bin_thin2dr(Image, StrctElmnts=[], Bckgrnd=0, Gen=True):\n",
      "    '''Morphological thinning of a 2D rectilinear binary image.\n",
      "    Returns thinned image, or None if no changes are applied.\n",
      "    \n",
      "    Image = The image being operated on\n",
      "    StrctElmnts = The 2D structuring elements whose rotations are subtracted from the image.\n",
      "    Bckgrnd = Subtracted pixels default to this value.\n",
      "    Gen = if true: SE rotations are generate. else: give 1D representations of the SE's.\n",
      "    \n",
      "    Notes: entries of -1 in the image and structuring element aren't compared.\n",
      "    '''\n",
      "    h = len(Image)\n",
      "    w = len(Image[0])\n",
      "    if Gen == True:\n",
      "        allSE_rots = [gen_rots2dr(SE,1) for SE in StrctElmnts]\n",
      "    for rot_i in range(len(allSE_rots[0])):\n",
      "        for SE_i in range(len(allSE_rots)):\n",
      "            SE = allSE_rots[SE_i][rot_i]\n",
      "            for j in range(h):\n",
      "                for i in range(w):\n",
      "                    if Image[j][i]!=0:\n",
      "                        E = []\n",
      "                        for dj in range(-1,2):\n",
      "                            for di in range(-1,2):\n",
      "                                y = j+dj\n",
      "                                x = i+di\n",
      "                                if x<0 or x>=w or y<0 or y>=h:\n",
      "                                    E.append(0)\n",
      "                                else:\n",
      "                                    E.append(Image[y][x])\n",
      "                        if comp_elmnts(E,SE):\n",
      "                            Image[j][i]=Bckgrnd\n",
      "    return Image"
     ],
     "language": "python",
     "metadata": {},
     "outputs": [],
     "prompt_number": 8
    },
    {
     "cell_type": "code",
     "collapsed": false,
     "input": [
      "SE1 = [[0,0,0],[-1,1,-1],[1,1,1]]\n",
      "SE2 = [[-1,0,0],[1,1,0],[-1,1,-1]]"
     ],
     "language": "python",
     "metadata": {},
     "outputs": [],
     "prompt_number": 9
    },
    {
     "cell_type": "code",
     "collapsed": false,
     "input": [
      "make_png(grid_to_rgb(bin_thin2dr(A, [SE1,SE2])),(500,500),'thinning_output/thin_it1.png')\n",
      "make_png(grid_to_rgb(bin_thin2dr(A, [SE1,SE2])),(500,500),'thinning_output/thin_it2.png')\n",
      "make_png(grid_to_rgb(bin_thin2dr(A, [SE1,SE2])),(500,500),'thinning_output/thin_it3.png')\n",
      "make_png(grid_to_rgb(bin_thin2dr(A, [SE1,SE2])),(500,500),'thinning_output/thin_it4.png')"
     ],
     "language": "python",
     "metadata": {},
     "outputs": [
      {
       "metadata": {},
       "output_type": "display_data",
       "png": "[encoded data removed]",
       "text": [
        "<matplotlib.figure.Figure at 0x1079a3f50>"
       ]
      },
      {
       "metadata": {},
       "output_type": "display_data",
       "png": "[encoded data removed]",
       "text": [
        "<matplotlib.figure.Figure at 0x107ea2850>"
       ]
      },
      {
       "metadata": {},
       "output_type": "display_data",
       "png": "[encoded data removed]",
       "text": [
        "<matplotlib.figure.Figure at 0x1080a6950>"
       ]
      },
      {
       "metadata": {},
       "output_type": "display_data",
       "png": "[encoded data removed]",
       "text": [
        "<matplotlib.figure.Figure at 0x1031af4d0>"
       ]
      }
     ],
     "prompt_number": 10
    },
    {
     "cell_type": "markdown",
     "metadata": {},
     "source": [
      "#`bin_thin3dr`\n",
      "\n",
      "If I'm correct this shouldn't require anything particularly special. It would simply involve utilizing more varied rotations of SE's from ."
     ]
    },
    {
     "cell_type": "code",
     "collapsed": false,
     "input": [
      "A = np.array([\n",
      "              [[0,0,0,0,0,0],\n",
      "               [0,0,1,0,0,0],\n",
      "               [1,1,1,0,0,0],\n",
      "               [1,1,0,0,0,0],\n",
      "               [1,1,1,1,1,0]],\n",
      "              [[0,0,0,0,0,0],\n",
      "               [0,1,1,0,0,0],\n",
      "               [1,1,1,0,0,0],\n",
      "               [1,1,1,1,0,0],\n",
      "               [0,0,0,1,1,0]],\n",
      "              [[0,1,1,0,0,0],\n",
      "               [0,1,1,1,0,0],\n",
      "               [1,1,0,0,0,0],\n",
      "               [0,1,0,1,1,0],\n",
      "               [0,0,0,1,1,1]],\n",
      "              [[0,0,1,1,0,0],\n",
      "               [0,1,1,1,0,1],\n",
      "               [0,1,1,0,0,1],\n",
      "               [0,0,0,0,1,1],\n",
      "               [0,0,0,0,0,1]]\n",
      "              ])"
     ],
     "language": "python",
     "metadata": {},
     "outputs": [],
     "prompt_number": 11
    },
    {
     "cell_type": "code",
     "collapsed": false,
     "input": [
      "zip(*A)"
     ],
     "language": "python",
     "metadata": {},
     "outputs": [
      {
       "metadata": {},
       "output_type": "pyout",
       "prompt_number": 12,
       "text": [
        "[(array([0, 0, 0, 0, 0, 0]),\n",
        "  array([0, 0, 0, 0, 0, 0]),\n",
        "  array([0, 1, 1, 0, 0, 0]),\n",
        "  array([0, 0, 1, 1, 0, 0])),\n",
        " (array([0, 0, 1, 0, 0, 0]),\n",
        "  array([0, 1, 1, 0, 0, 0]),\n",
        "  array([0, 1, 1, 1, 0, 0]),\n",
        "  array([0, 1, 1, 1, 0, 1])),\n",
        " (array([1, 1, 1, 0, 0, 0]),\n",
        "  array([1, 1, 1, 0, 0, 0]),\n",
        "  array([1, 1, 0, 0, 0, 0]),\n",
        "  array([0, 1, 1, 0, 0, 1])),\n",
        " (array([1, 1, 0, 0, 0, 0]),\n",
        "  array([1, 1, 1, 1, 0, 0]),\n",
        "  array([0, 1, 0, 1, 1, 0]),\n",
        "  array([0, 0, 0, 0, 1, 1])),\n",
        " (array([1, 1, 1, 1, 1, 0]),\n",
        "  array([0, 0, 0, 1, 1, 0]),\n",
        "  array([0, 0, 0, 1, 1, 1]),\n",
        "  array([0, 0, 0, 0, 0, 1]))]"
       ]
      }
     ],
     "prompt_number": 12
    },
    {
     "cell_type": "code",
     "collapsed": false,
     "input": [
      "#for grid in A:\n",
      "#    make_png(grid_to_rgb(grid),(600,500),save=False)\n",
      "#for grid in zip(*A):\n",
      "#    make_png(grid_to_rgb(np.array(grid)),(600,400),save=False)"
     ],
     "language": "python",
     "metadata": {},
     "outputs": [],
     "prompt_number": 13
    },
    {
     "cell_type": "code",
     "collapsed": false,
     "input": [
      "SE1 = [[[0,0,0],[0,0,0],[0,0,0]],\n",
      "       [[0,0,0],[-1,1,-1],[1,1,1]],\n",
      "       [[0,0,0],[0,0,0],[0,0,0]]\n",
      "       ]\n",
      "SE2 = [[[0,1,0],[0,2,0],[0,3,0]],\n",
      "       [[-1,0,0],[1,1,0],[-1,1,-1]],\n",
      "       [[0,4,0],[0,5,0],[0,6,0]]\n",
      "       ]"
     ],
     "language": "python",
     "metadata": {},
     "outputs": [],
     "prompt_number": 14
    },
    {
     "cell_type": "code",
     "collapsed": false,
     "input": [
      "def ax1_rots3dr(X):\n",
      "    '''generate rotations of the original element in 3D rectilinear space.\n",
      "    \n",
      "    --Note--\n",
      "    Rotations are made about the first axis of the element.\n",
      "    \n",
      "    x = element\n",
      "    R = dimensions of the output (1 or 2)\n",
      "    '''\n",
      "    #if R==1:\n",
      "    #    allrots = [[X[i][j][k] for i in range(3) for j in range(3) for k in range(3)]]\n",
      "    #else:\n",
      "    ax1rots = [X]\n",
      "    rot_prev = [[elmnt for elmnt in row] for row in X]\n",
      "    shiftmat0 = [[1,0,0],\n",
      "                [1,0,-1],\n",
      "                [0,0,-1]]\n",
      "    shiftmat1 = [[0,-1,-1],\n",
      "                [0,0,0],\n",
      "                [1,1,0]]\n",
      "    for i in range(7):\n",
      "        rot_next = [[0,0,0],[0,X[1][1][:],0],[0,0,0]]\n",
      "        for z in range(3):\n",
      "            for y in range(3):\n",
      "                if (z,y)!=(1,1):\n",
      "                    rot_next[z][y] = rot_prev[z+shiftmat0[z][y]][y+shiftmat1[z][y]]\n",
      "        #if R==1:\n",
      "        #    allrots.append([rot_next[i][j][k] for i in range(3) for j in range(3) for k in range(3)])\n",
      "        #else:\n",
      "        ax1rots.append(rot_next)\n",
      "        rot_prev = [[elmnt for elmnt in row] for row in rot_next]\n",
      "    \n",
      "    allrots = []\n",
      "    for rot_main in ax1rots:\n",
      "        init_layers = [[rot_main[j][k][:] for j in range(3)] for k in range(3)]\n",
      "        lay_collection = []\n",
      "        for lay in init_layers:\n",
      "            lay_rots = []\n",
      "            rot_prev = [[elmnt for elmnt in row] for row in lay]\n",
      "            for i in range(7):\n",
      "                rot_next = [[0,0,0],[0,lay[1][1],0],[0,0,0]]\n",
      "                for z in range(3):\n",
      "                    for y in range(3):\n",
      "                        if (z,y)!=(1,1):\n",
      "                            rot_next[z][y] = rot_prev[z+shiftmat0[z][y]][y+shiftmat1[z][y]]\n",
      "                lay_rots.append(rot_next)\n",
      "                rot_prev = [[elmnt for elmnt in row] for row in rot_next]\n",
      "            lay_collection.append(lay_rots)\n",
      "        allrots.append(rot_main)\n",
      "        for i in range(7):\n",
      "            add_rot = [[lay_collection[j][i][k] for j in range(3)] for k in range(3)]\n",
      "            allrots.append(add_rot)\n",
      "    \n",
      "    \n",
      "    return allrots"
     ],
     "language": "python",
     "metadata": {},
     "outputs": [],
     "prompt_number": 204
    },
    {
     "cell_type": "code",
     "collapsed": false,
     "input": [
      "SE2_rots = ax1_rots3dr(SE2)\n",
      "print 'TOTAL NUMBER OF ROTATIONS:',len(ax1_rots3dr(SE2))\n",
      "print '    ~ 8 rotations about axis 1, and 8 rotations'\n",
      "print '      about axis2 for each rotation about axis 1.'\n",
      "print\n",
      "print 'ROTATION ABOUT AXIS 1'\n",
      "print '---------------------'\n",
      "print 'initial SE:'\n",
      "for rw in SE2_rots[0]:\n",
      "    print rw\n",
      "print'first rotation:'\n",
      "for rw in SE2_rots[1]:\n",
      "    print rw\n",
      "print\n",
      "print 'ROTATION ABOUT AXIS 2'\n",
      "print '---------------------'\n",
      "print 'initial SE:'\n",
      "for rw in SE2_rots[0]:\n",
      "    print rw\n",
      "print'first rotation:'\n",
      "for rw in SE2_rots[8]:\n",
      "    print rw"
     ],
     "language": "python",
     "metadata": {},
     "outputs": [
      {
       "output_type": "stream",
       "stream": "stdout",
       "text": [
        "TOTAL NUMBER OF ROTATIONS: 64\n",
        "    ~ 8 rotations about axis 1, and 8 rotations\n",
        "      about axis2 for each rotation about axis 1.\n",
        "\n",
        "ROTATION ABOUT AXIS 1\n",
        "---------------------\n",
        "initial SE:\n",
        "[[0, 1, 0], [0, 2, 0], [0, 3, 0]]\n",
        "[[-1, 0, 0], [1, 1, 0], [-1, 1, -1]]\n",
        "[[0, 4, 0], [0, 5, 0], [0, 6, 0]]\n",
        "first rotation:\n",
        "[[-1, 0, 1], [1, 0, 2], [-1, 0, 3]]\n",
        "[[0, 0, 0], [0, 1, 0], [0, 1, 0]]\n",
        "[[4, 0, 0], [5, 0, 0], [6, 0, -1]]\n",
        "\n",
        "ROTATION ABOUT AXIS 2\n",
        "---------------------\n",
        "initial SE:\n",
        "[[0, 1, 0], [0, 2, 0], [0, 3, 0]]\n",
        "[[-1, 0, 0], [1, 1, 0], [-1, 1, -1]]\n",
        "[[0, 4, 0], [0, 5, 0], [0, 6, 0]]\n",
        "first rotation:\n",
        "[[-1, 0, 0], [0, 1, 0], [0, 2, 0]]\n",
        "[[0, 4, 0], [1, 1, 0], [0, 3, 0]]\n",
        "[[0, 5, 0], [0, 6, 0], [-1, 1, -1]]\n"
       ]
      }
     ],
     "prompt_number": 209
    },
    {
     "cell_type": "markdown",
     "metadata": {},
     "source": [
      "#Structuring Elements For 3D Hexagonal Geometry:\n",
      "---\n",
      "###SE_1\n",
      "+ The use of 1, 0, and \"-\" signifify foreground, background, and null entries respectively.\n",
      "\n",
      "|_back_   |_center_ |_front_  |\n",
      "|---------|---------|---------|\n",
      "|`[-,-]`  |`[-,-]`  |`[-,-]`  |\n",
      "|`[-,1,-]`|`[1,1,0]`|`[-,0,0]`|\n",
      "|`[-,-]`  |`[-,-]`  |`[-,-]`  |\n",
      "\n",
      "---\n",
      "###SE_2\n",
      "\n",
      "+ As before 1, 0, and \"-\" signifify foreground, background, and null entries.\n",
      "\n",
      "|_back_   |_center_ |_front_  |\n",
      "|---------|---------|---------|\n",
      "|`[-,-]`  |`[0,0]`  |`[-,-]`  |\n",
      "|`[-,-,-]`|`[-,1,-]`|`[-,-,-]`|\n",
      "|`[-,-]`  |`[1,1]`  |`[-,-]`  |\n",
      "\n",
      "+ A nonobvious configuration of SE_2:\n",
      "\n",
      "|_back_   |_center_ |_front_  |\n",
      "|---------|---------|---------|\n",
      "|`[0,0]`  |`[-,-]`  |`[-,-]`  |\n",
      "|`[-,-,-]`|`[-,1,-]`|`[-,-,-]`|\n",
      "|`[-,-]`  |`[-,-]`  |`[1,1]`  |"
     ]
    },
    {
     "cell_type": "code",
     "collapsed": false,
     "input": [],
     "language": "python",
     "metadata": {},
     "outputs": []
    }
   ],
   "metadata": {}
  }
 ]
}