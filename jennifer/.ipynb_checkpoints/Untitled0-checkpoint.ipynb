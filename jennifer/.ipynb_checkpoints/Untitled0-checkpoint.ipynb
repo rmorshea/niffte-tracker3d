{
 "metadata": {
  "name": "",
  "signature": "sha256:371b17938d8439521ca8fa172ef46da23fa3de7e5ba0a51dee4914cae4dd9da8"
 },
 "nbformat": 3,
 "nbformat_minor": 0,
 "worksheets": []
}