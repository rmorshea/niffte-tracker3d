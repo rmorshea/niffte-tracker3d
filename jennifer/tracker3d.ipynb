{
 "metadata": {
  "name": "",
  "signature": "sha256:7ed30197ebdb094126d598481a93958bf146597bbc7a6e51b642cff6a5001f90"
 },
 "nbformat": 3,
 "nbformat_minor": 0,
 "worksheets": [
  {
   "cells": [
    {
     "cell_type": "code",
     "collapsed": false,
     "input": [
      "ls"
     ],
     "language": "python",
     "metadata": {},
     "outputs": [
      {
       "output_type": "stream",
       "stream": "stdout",
       "text": [
        "3DTracker.py       Gradient.py        LineUtils.py       Niffte-event.dat   Plan.md            SpacePoint.py      Untitled0.ipynb    Voxel.py           test.py\r\n",
        "EdgeFinder.py      LSQ3D.py           NIFFTE-alphas.dat  NiffteGeo.py       README.md          TrackFit.py        Utilities.py       lin.py             test2.py\r\n"
       ]
      }
     ],
     "prompt_number": 12
    },
    {
     "cell_type": "code",
     "collapsed": false,
     "input": [
      "cat 3DTracker.py"
     ],
     "language": "python",
     "metadata": {},
     "outputs": [
      {
       "output_type": "stream",
       "stream": "stdout",
       "text": [
        "#####################################\r\n",
        "#\r\n",
        "# Main program for 3DTracker\r\n",
        "#\r\n",
        "#\r\n",
        "# J.L. Klay\r\n",
        "# 14-May-2012\r\n",
        "#\r\n",
        "#####################################\r\n",
        "from operator import attrgetter\r\n",
        "import numpy as np\r\n",
        "import math\r\n",
        "import time\r\n",
        "\r\n",
        "import SpacePoint as sp\r\n",
        "import TrackFit as tf\r\n",
        "import NiffteGeo as ngeo\r\n",
        "import Voxel as vox\r\n",
        "import LSQ3D as lsq3d\r\n",
        "import LineUtils as lin\r\n",
        "\r\n",
        "from mpl_toolkits.mplot3d import Axes3D\r\n",
        "import matplotlib.pyplot as plt\r\n",
        "import pylab\r\n",
        "\r\n",
        "pylab.ion()\r\n",
        "#pylab.hold(False)\r\n",
        "fig = plt.figure()\r\n",
        "ax = fig.add_subplot(111,projection='3d')\r\n",
        "\r\n",
        "fin = open('NIFFTE-alphas.dat')\r\n",
        "lines = fin.readlines()\r\n",
        "lnum = 0\r\n",
        "for line in lines:\r\n",
        "    lnum += 1\r\n",
        "    entries = (line.strip()).split()\r\n",
        "    if entries[0] == \"####\":\r\n",
        "       points = []\r\n",
        "       event = entries[2]\r\n",
        "       ndig = entries[5]\r\n",
        "#       print \"EVENT \", event, \"NDIG \",ndig\r\n",
        "       for i in range(int(ndig)):\r\n",
        "       \t   dataline = lines[lnum+i]\r\n",
        "\t   data = (dataline.strip()).split()\r\n",
        "\t   volume = int(data[0])\r\n",
        "\t   row = int(data[1])\r\n",
        "\t   column = int(data[2])\r\n",
        "\t   bucket = int(data[3])\r\n",
        "\t   adc = int(data[4])\r\n",
        "\t   voxel = vox.Voxel(volume,row,column,bucket,adc)\r\n",
        "\t   points.append(ngeo.MapVoxeltoXYZ(voxel))\r\n",
        "#\t   print voxel\r\n",
        "\r\n",
        "       print \"Event \",event,\" Num points = \",len(points)\r\n",
        "\r\n",
        "       #sort them in order of farthest from the origin (0,0,0) to closest\r\n",
        "       points.sort(key=attrgetter('mag'),reverse=True)\r\n",
        "\r\n",
        "       print \"Finding best fit line...\\n\"\r\n",
        "       track = lsq3d.LSQ3D(points,weighted=True)\r\n",
        "\r\n",
        "       print track\r\n",
        "\r\n",
        "       #Plot results\r\n",
        "       ax.clear()\r\n",
        "       for pt in points:\r\n",
        "\t   ax.scatter(pt.x,pt.y,pt.z,color='r',marker='o',alpha=0.15)\r\n",
        "\r\n",
        "       x = [track.start.x,track.end.x]\r\n",
        "       y = [track.start.y,track.end.y]\r\n",
        "       z = [track.start.z,track.end.z]\r\n",
        "       ax.plot(x,y,z,color='b',linewidth=2)\r\n",
        "\r\n",
        "       ax.set_xlabel(\"x (cm)\")\r\n",
        "       ax.set_ylabel(\"y (cm)\")\r\n",
        "       ax.set_zlabel(\"z (cm)\")\r\n",
        "\r\n",
        "       ax.set_xlim3d(-5.,5.)\r\n",
        "       ax.set_ylim3d(-5.,5.)\r\n",
        "       ax.set_zlim3d(-5.,5.)\r\n",
        "\r\n",
        "\r\n",
        "#       ax.set_xlim3d(np.min(x)*1.25,max(np.max(x)*1.25,0.))\r\n",
        "#       ax.set_ylim3d(np.min(y)*1.25,max(np.max(y)*1.25,0.))\r\n",
        "#       ax.set_zlim3d(np.min(z)*1.25,max(np.max(z)*1.25,0.))\r\n",
        "\r\n",
        "       plt.draw()\r\n",
        "       var = raw_input(\"Press enter to continue or q to quit\")\r\n",
        "       if (var == 'q'):\r\n",
        "          break\r\n",
        "\r\n"
       ]
      }
     ],
     "prompt_number": 19
    },
    {
     "cell_type": "code",
     "collapsed": false,
     "input": [
      "import '3DTracker'"
     ],
     "language": "python",
     "metadata": {},
     "outputs": [
      {
       "ename": "SyntaxError",
       "evalue": "invalid syntax (<ipython-input-23-debe4445728c>, line 1)",
       "output_type": "pyerr",
       "traceback": [
        "\u001b[0;36m  File \u001b[0;32m\"<ipython-input-23-debe4445728c>\"\u001b[0;36m, line \u001b[0;32m1\u001b[0m\n\u001b[0;31m    import '3DTracker'\u001b[0m\n\u001b[0m                     ^\u001b[0m\n\u001b[0;31mSyntaxError\u001b[0m\u001b[0;31m:\u001b[0m invalid syntax\n"
       ]
      }
     ],
     "prompt_number": 23
    },
    {
     "cell_type": "code",
     "collapsed": false,
     "input": [],
     "language": "python",
     "metadata": {},
     "outputs": []
    }
   ],
   "metadata": {}
  }
 ]
}